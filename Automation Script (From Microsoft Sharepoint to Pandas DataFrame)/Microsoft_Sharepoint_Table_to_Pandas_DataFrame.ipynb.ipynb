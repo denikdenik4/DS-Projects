{
 "cells": [
  {
   "cell_type": "code",
   "execution_count": null,
   "metadata": {},
   "outputs": [],
   "source": [
    "#import all the libraries\n",
    "from office365.runtime.auth.authentication_context import AuthenticationContext\n",
    "from office365.sharepoint.client_context import ClientContext\n",
    "from office365.sharepoint.file import File \n",
    "import io\n",
    "import pandas as pd"
   ]
  },
  {
   "cell_type": "code",
   "execution_count": null,
   "metadata": {},
   "outputs": [],
   "source": [
    "#target url taken from sharepoint and credentials\n",
    "url = 'url'\n",
    "username = 'login'\n",
    "password = 'password'"
   ]
  },
  {
   "cell_type": "code",
   "execution_count": null,
   "metadata": {},
   "outputs": [],
   "source": [
    "ctx_auth = AuthenticationContext(url)\n",
    "if ctx_auth.acquire_token_for_user(username, password):\n",
    "    ctx = ClientContext(url, ctx_auth)\n",
    "    web = ctx.web\n",
    "    ctx.load(web)\n",
    "    ctx.execute_query()\n",
    "    print(\"Authentication successful\")\n",
    "    "
   ]
  },
  {
   "cell_type": "code",
   "execution_count": null,
   "metadata": {},
   "outputs": [],
   "source": [
    "###Authentication###For authenticating into your sharepoint site###\n",
    "ctx_auth = AuthenticationContext(url)\n",
    "if ctx_auth.acquire_token_for_user(username, password):\n",
    "    ctx = ClientContext(url, ctx_auth)\n",
    "    web = ctx.web\n",
    "    ctx.load(web)\n",
    "    ctx.execute_query()\n",
    "    print('Authenticated into sharepoint as: ',web.properties['Title'])\n",
    "else:\n",
    "    print(ctx_auth.get_last_error())\n"
   ]
  },
  {
   "cell_type": "code",
   "execution_count": null,
   "metadata": {},
   "outputs": [],
   "source": [
    "response = File.open_binary(ctx, url)\n",
    "\n",
    "#save data to BytesIO stream\n",
    "bytes_file_obj = io.BytesIO()\n",
    "bytes_file_obj.write(response.content)\n",
    "bytes_file_obj.seek(0) #set file object to start"
   ]
  },
  {
   "cell_type": "code",
   "execution_count": null,
   "metadata": {},
   "outputs": [],
   "source": [
    "#read excel file and each sheet into pandas dataframe \n",
    "df = pd.read_excel(bytes_file_obj, sheetname = None)"
   ]
  }
 ],
 "metadata": {
  "kernelspec": {
   "display_name": "Python 3",
   "language": "python",
   "name": "python3"
  },
  "language_info": {
   "codemirror_mode": {
    "name": "ipython",
    "version": 3
   },
   "file_extension": ".py",
   "mimetype": "text/x-python",
   "name": "python",
   "nbconvert_exporter": "python",
   "pygments_lexer": "ipython3",
   "version": "3.7.4"
  }
 },
 "nbformat": 4,
 "nbformat_minor": 4
}
