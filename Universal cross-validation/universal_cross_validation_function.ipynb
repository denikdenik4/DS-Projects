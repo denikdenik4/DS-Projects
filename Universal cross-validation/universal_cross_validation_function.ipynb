{
 "cells": [
  {
   "cell_type": "code",
   "execution_count": 15,
   "metadata": {},
   "outputs": [],
   "source": [
    "# Data pre-processing, Feature selection and Model selection.\n",
    "\n",
    "# Imports for pipeline\n",
    "from sklearn.pipeline import make_pipeline\n",
    "\n",
    "# Here to import libaries for data pre-processing, feature selection and model selection.\n",
    "#\n",
    "#\n",
    "#\n",
    "#\n"
   ]
  },
  {
   "cell_type": "code",
   "execution_count": 20,
   "metadata": {},
   "outputs": [],
   "source": [
    "# Pipeline function\n",
    "\n",
    "def creating_pipeline (scaler, feature_selection, model):\n",
    "    if feature_selection == False:\n",
    "        return make_pipeline(scaler, model)\n",
    "    else:\n",
    "        return make_pipeline(scaler, feature_selection, model)"
   ]
  },
  {
   "cell_type": "code",
   "execution_count": 13,
   "metadata": {},
   "outputs": [
    {
     "data": {
      "text/plain": [
       "Pipeline(steps=[('robustscaler', RobustScaler()),\n",
       "                ('selectkbest', SelectKBest()),\n",
       "                ('logisticregression', LogisticRegression())])"
      ]
     },
     "execution_count": 13,
     "metadata": {},
     "output_type": "execute_result"
    }
   ],
   "source": [
    "creating_pipeline(\\\n",
    "                    RobustScaler(),\n",
    "                    SelectKBest(f_classif),\n",
    "                    LogisticRegression(solver='lbfgs'))"
   ]
  },
  {
   "cell_type": "code",
   "execution_count": 16,
   "metadata": {},
   "outputs": [],
   "source": [
    "# Model validation\n",
    "\n",
    "from sklearn.model_selection import GridSearchCV\n",
    "\n",
    "# Parameters grid \n",
    "# E.G. for LogisticRegression\n",
    "\n",
    "param_grid = {\n",
    "    'selectkbest__k': [1, 2, 3, 4],\n",
    "    'logisticregression__class_weight': [None,'balanced'],\n",
    "    'logisticregression__C': [.0001, .001, .01, .1, 1.0, 10.0, 100.00, 1000.0, 10000.0]\n",
    "}"
   ]
  },
  {
   "cell_type": "code",
   "execution_count": null,
   "metadata": {},
   "outputs": [],
   "source": [
    "# Grid search function\n",
    "\n",
    "#scoring = todefine (should be str)\n",
    "\n",
    "# Optional to define:\n",
    "# cv - number of K-Folds\n",
    "# verbose - controls the verbosity, higher - more messages\n",
    "\n",
    "def gridsearch(pipeline, param_grid, cv, str(scoring), verbose):\n",
    "    m_gridsearch = GridSearchCV(pipeline, param_grid = param_grid, cv = cv, scoring = scoring, verbose = verbose)\n",
    "    return m_gridsearch"
   ]
  },
  {
   "cell_type": "code",
   "execution_count": null,
   "metadata": {},
   "outputs": [],
   "source": []
  },
  {
   "cell_type": "code",
   "execution_count": null,
   "metadata": {},
   "outputs": [],
   "source": []
  }
 ],
 "metadata": {
  "kernelspec": {
   "display_name": "Python 3",
   "language": "python",
   "name": "python3"
  },
  "language_info": {
   "codemirror_mode": {
    "name": "ipython",
    "version": 3
   },
   "file_extension": ".py",
   "mimetype": "text/x-python",
   "name": "python",
   "nbconvert_exporter": "python",
   "pygments_lexer": "ipython3",
   "version": "3.7.4"
  }
 },
 "nbformat": 4,
 "nbformat_minor": 4
}
