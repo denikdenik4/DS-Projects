{
 "cells": [
  {
   "cell_type": "code",
   "execution_count": 1,
   "metadata": {},
   "outputs": [],
   "source": [
    "import pandas as pd\n",
    "import numpy as np\n",
    "import matplotlib.pyplot as plt\n",
    "from statsmodels.tsa.holtwinters import ExponentialSmoothing"
   ]
  },
  {
   "cell_type": "code",
   "execution_count": 2,
   "metadata": {},
   "outputs": [],
   "source": [
    "#Repetition of the data cleaning\n",
    "\n",
    "data = pd.read_csv('data.txt', sep=';', skiprows=2)"
   ]
  },
  {
   "cell_type": "code",
   "execution_count": 3,
   "metadata": {},
   "outputs": [],
   "source": [
    "data.drop('Unnamed: 10', axis = 1, inplace = True)"
   ]
  },
  {
   "cell_type": "code",
   "execution_count": 4,
   "metadata": {},
   "outputs": [],
   "source": [
    "#Convert 'Datum' column to datetime\n",
    "\n",
    "data.loc[:, 'Datum'] = pd.to_datetime(data['Datum'], format='%d.%m.%Y %H:%M')\n",
    "data.drop([7202], axis = 0, inplace = True)\n",
    "data.reset_index(drop=True, inplace = True)"
   ]
  },
  {
   "cell_type": "code",
   "execution_count": 5,
   "metadata": {},
   "outputs": [],
   "source": [
    "data['ZE [MW]'] = data['ZE [MW]'].astype(float)"
   ]
  },
  {
   "cell_type": "code",
   "execution_count": 6,
   "metadata": {},
   "outputs": [],
   "source": [
    "df_for_prediction = data\n",
    "columns_to_sum = ['PE [MW]', 'PPE [MW]', 'JE [MW]', 'VE [MW]', 'PVE [MW]', 'AE [MW]', 'ZE [MW]', 'VTE [MW]', 'FVE [MW]']\n",
    "df_for_prediction['sum_of_consumptions'] = df_for_prediction[columns_to_sum].sum(axis = 1)\n",
    "df_for_prediction.drop(columns_to_sum, axis = 1, inplace = True)"
   ]
  },
  {
   "cell_type": "code",
   "execution_count": 7,
   "metadata": {},
   "outputs": [],
   "source": [
    "df_for_prediction.sort_values(by='Datum', inplace=True, ascending=True)"
   ]
  },
  {
   "cell_type": "code",
   "execution_count": 8,
   "metadata": {},
   "outputs": [],
   "source": [
    "df_for_prediction.set_index('Datum', inplace=True)"
   ]
  },
  {
   "cell_type": "code",
   "execution_count": 9,
   "metadata": {},
   "outputs": [],
   "source": [
    "#Adding periodicity for index values\n",
    "\n",
    "df_for_prediction.index = pd.DatetimeIndex(df_for_prediction.index).to_period('H')"
   ]
  },
  {
   "cell_type": "code",
   "execution_count": 10,
   "metadata": {},
   "outputs": [],
   "source": [
    "#Splitting the data into train and test datasets\n",
    "\n",
    "train, test = df_for_prediction.iloc[:10667], df_for_prediction.iloc[10667:]"
   ]
  },
  {
   "cell_type": "code",
   "execution_count": 30,
   "metadata": {},
   "outputs": [
    {
     "name": "stderr",
     "output_type": "stream",
     "text": [
      "C:\\Users\\Denys\\Anaconda3\\lib\\site-packages\\statsmodels\\tsa\\holtwinters.py:712: ConvergenceWarning: Optimization failed to converge. Check mle_retvals.\n",
      "  ConvergenceWarning)\n"
     ]
    }
   ],
   "source": [
    "#Fitting the model by train data\n",
    "\n",
    "model = ExponentialSmoothing(train, trend='add', damped=True, seasonal = 'add', seasonal_periods = 24).fit()"
   ]
  },
  {
   "cell_type": "code",
   "execution_count": 31,
   "metadata": {},
   "outputs": [
    {
     "data": {
      "text/html": [
       "<div>\n",
       "<style scoped>\n",
       "    .dataframe tbody tr th:only-of-type {\n",
       "        vertical-align: middle;\n",
       "    }\n",
       "\n",
       "    .dataframe tbody tr th {\n",
       "        vertical-align: top;\n",
       "    }\n",
       "\n",
       "    .dataframe thead th {\n",
       "        text-align: right;\n",
       "    }\n",
       "</style>\n",
       "<table border=\"1\" class=\"dataframe\">\n",
       "  <thead>\n",
       "    <tr style=\"text-align: right;\">\n",
       "      <th></th>\n",
       "      <th>Predicted</th>\n",
       "    </tr>\n",
       "    <tr>\n",
       "      <th>Datum</th>\n",
       "      <th></th>\n",
       "    </tr>\n",
       "  </thead>\n",
       "  <tbody>\n",
       "    <tr>\n",
       "      <td>2019-03-21 12:00</td>\n",
       "      <td>11200.316401</td>\n",
       "    </tr>\n",
       "    <tr>\n",
       "      <td>2019-03-21 13:00</td>\n",
       "      <td>11048.580628</td>\n",
       "    </tr>\n",
       "    <tr>\n",
       "      <td>2019-03-21 14:00</td>\n",
       "      <td>11031.810726</td>\n",
       "    </tr>\n",
       "    <tr>\n",
       "      <td>2019-03-21 15:00</td>\n",
       "      <td>10941.105598</td>\n",
       "    </tr>\n",
       "    <tr>\n",
       "      <td>2019-03-21 16:00</td>\n",
       "      <td>11096.541765</td>\n",
       "    </tr>\n",
       "    <tr>\n",
       "      <td>...</td>\n",
       "      <td>...</td>\n",
       "    </tr>\n",
       "    <tr>\n",
       "      <td>2019-05-20 06:00</td>\n",
       "      <td>11416.339574</td>\n",
       "    </tr>\n",
       "    <tr>\n",
       "      <td>2019-05-20 07:00</td>\n",
       "      <td>11657.309724</td>\n",
       "    </tr>\n",
       "    <tr>\n",
       "      <td>2019-05-20 08:00</td>\n",
       "      <td>11700.637710</td>\n",
       "    </tr>\n",
       "    <tr>\n",
       "      <td>2019-05-20 09:00</td>\n",
       "      <td>11517.615245</td>\n",
       "    </tr>\n",
       "    <tr>\n",
       "      <td>2019-05-20 10:00</td>\n",
       "      <td>11281.983737</td>\n",
       "    </tr>\n",
       "  </tbody>\n",
       "</table>\n",
       "<p>1438 rows × 1 columns</p>\n",
       "</div>"
      ],
      "text/plain": [
       "                     Predicted\n",
       "Datum                         \n",
       "2019-03-21 12:00  11200.316401\n",
       "2019-03-21 13:00  11048.580628\n",
       "2019-03-21 14:00  11031.810726\n",
       "2019-03-21 15:00  10941.105598\n",
       "2019-03-21 16:00  11096.541765\n",
       "...                        ...\n",
       "2019-05-20 06:00  11416.339574\n",
       "2019-05-20 07:00  11657.309724\n",
       "2019-05-20 08:00  11700.637710\n",
       "2019-05-20 09:00  11517.615245\n",
       "2019-05-20 10:00  11281.983737\n",
       "\n",
       "[1438 rows x 1 columns]"
      ]
     },
     "execution_count": 31,
     "metadata": {},
     "output_type": "execute_result"
    }
   ],
   "source": [
    "#Prediciting the values for the test dataset\n",
    "\n",
    "results = pd.DataFrame(index = test.index)\n",
    "results['Predicted'] = model.predict(start=test.index[0], end = test.index[-1])\n",
    "results"
   ]
  },
  {
   "cell_type": "code",
   "execution_count": 32,
   "metadata": {},
   "outputs": [
    {
     "data": {
      "text/html": [
       "<div>\n",
       "<style scoped>\n",
       "    .dataframe tbody tr th:only-of-type {\n",
       "        vertical-align: middle;\n",
       "    }\n",
       "\n",
       "    .dataframe tbody tr th {\n",
       "        vertical-align: top;\n",
       "    }\n",
       "\n",
       "    .dataframe thead th {\n",
       "        text-align: right;\n",
       "    }\n",
       "</style>\n",
       "<table border=\"1\" class=\"dataframe\">\n",
       "  <thead>\n",
       "    <tr style=\"text-align: right;\">\n",
       "      <th></th>\n",
       "      <th>Predicted</th>\n",
       "      <th>Real_values</th>\n",
       "      <th>Diff_percentage</th>\n",
       "    </tr>\n",
       "    <tr>\n",
       "      <th>Datum</th>\n",
       "      <th></th>\n",
       "      <th></th>\n",
       "      <th></th>\n",
       "    </tr>\n",
       "  </thead>\n",
       "  <tbody>\n",
       "    <tr>\n",
       "      <td>2019-03-21 12:00</td>\n",
       "      <td>11200.316401</td>\n",
       "      <td>10989.6</td>\n",
       "      <td>1.917416</td>\n",
       "    </tr>\n",
       "    <tr>\n",
       "      <td>2019-03-21 13:00</td>\n",
       "      <td>11048.580628</td>\n",
       "      <td>10858.5</td>\n",
       "      <td>1.750524</td>\n",
       "    </tr>\n",
       "    <tr>\n",
       "      <td>2019-03-21 14:00</td>\n",
       "      <td>11031.810726</td>\n",
       "      <td>10550.6</td>\n",
       "      <td>4.560980</td>\n",
       "    </tr>\n",
       "    <tr>\n",
       "      <td>2019-03-21 15:00</td>\n",
       "      <td>10941.105598</td>\n",
       "      <td>10493.1</td>\n",
       "      <td>4.269526</td>\n",
       "    </tr>\n",
       "    <tr>\n",
       "      <td>2019-03-21 16:00</td>\n",
       "      <td>11096.541765</td>\n",
       "      <td>10300.3</td>\n",
       "      <td>7.730277</td>\n",
       "    </tr>\n",
       "    <tr>\n",
       "      <td>...</td>\n",
       "      <td>...</td>\n",
       "      <td>...</td>\n",
       "      <td>...</td>\n",
       "    </tr>\n",
       "    <tr>\n",
       "      <td>2019-05-20 06:00</td>\n",
       "      <td>11416.339574</td>\n",
       "      <td>9561.1</td>\n",
       "      <td>19.404039</td>\n",
       "    </tr>\n",
       "    <tr>\n",
       "      <td>2019-05-20 07:00</td>\n",
       "      <td>11657.309724</td>\n",
       "      <td>10072.7</td>\n",
       "      <td>15.731728</td>\n",
       "    </tr>\n",
       "    <tr>\n",
       "      <td>2019-05-20 08:00</td>\n",
       "      <td>11700.637710</td>\n",
       "      <td>10195.3</td>\n",
       "      <td>14.765016</td>\n",
       "    </tr>\n",
       "    <tr>\n",
       "      <td>2019-05-20 09:00</td>\n",
       "      <td>11517.615245</td>\n",
       "      <td>10111.4</td>\n",
       "      <td>13.907226</td>\n",
       "    </tr>\n",
       "    <tr>\n",
       "      <td>2019-05-20 10:00</td>\n",
       "      <td>11281.983737</td>\n",
       "      <td>10075.0</td>\n",
       "      <td>11.979987</td>\n",
       "    </tr>\n",
       "  </tbody>\n",
       "</table>\n",
       "<p>1438 rows × 3 columns</p>\n",
       "</div>"
      ],
      "text/plain": [
       "                     Predicted  Real_values  Diff_percentage\n",
       "Datum                                                       \n",
       "2019-03-21 12:00  11200.316401      10989.6         1.917416\n",
       "2019-03-21 13:00  11048.580628      10858.5         1.750524\n",
       "2019-03-21 14:00  11031.810726      10550.6         4.560980\n",
       "2019-03-21 15:00  10941.105598      10493.1         4.269526\n",
       "2019-03-21 16:00  11096.541765      10300.3         7.730277\n",
       "...                        ...          ...              ...\n",
       "2019-05-20 06:00  11416.339574       9561.1        19.404039\n",
       "2019-05-20 07:00  11657.309724      10072.7        15.731728\n",
       "2019-05-20 08:00  11700.637710      10195.3        14.765016\n",
       "2019-05-20 09:00  11517.615245      10111.4        13.907226\n",
       "2019-05-20 10:00  11281.983737      10075.0        11.979987\n",
       "\n",
       "[1438 rows x 3 columns]"
      ]
     },
     "execution_count": 32,
     "metadata": {},
     "output_type": "execute_result"
    }
   ],
   "source": [
    "#Comparing the results\n",
    "\n",
    "results['Real_values'] = test['sum_of_consumptions']\n",
    "results['Diff_percentage'] = (results['Predicted'] / results['Real_values'] - 1) * 100\n",
    "results"
   ]
  },
  {
   "cell_type": "code",
   "execution_count": 33,
   "metadata": {},
   "outputs": [
    {
     "data": {
      "text/html": [
       "<div>\n",
       "<style scoped>\n",
       "    .dataframe tbody tr th:only-of-type {\n",
       "        vertical-align: middle;\n",
       "    }\n",
       "\n",
       "    .dataframe tbody tr th {\n",
       "        vertical-align: top;\n",
       "    }\n",
       "\n",
       "    .dataframe thead th {\n",
       "        text-align: right;\n",
       "    }\n",
       "</style>\n",
       "<table border=\"1\" class=\"dataframe\">\n",
       "  <thead>\n",
       "    <tr style=\"text-align: right;\">\n",
       "      <th></th>\n",
       "      <th>Predicted</th>\n",
       "      <th>Real_values</th>\n",
       "      <th>Diff_percentage</th>\n",
       "    </tr>\n",
       "  </thead>\n",
       "  <tbody>\n",
       "    <tr>\n",
       "      <td>count</td>\n",
       "      <td>1438.000000</td>\n",
       "      <td>1438.000000</td>\n",
       "      <td>1438.000000</td>\n",
       "    </tr>\n",
       "    <tr>\n",
       "      <td>mean</td>\n",
       "      <td>10878.728332</td>\n",
       "      <td>9417.169124</td>\n",
       "      <td>16.733657</td>\n",
       "    </tr>\n",
       "    <tr>\n",
       "      <td>std</td>\n",
       "      <td>673.303848</td>\n",
       "      <td>1084.080786</td>\n",
       "      <td>12.719943</td>\n",
       "    </tr>\n",
       "    <tr>\n",
       "      <td>min</td>\n",
       "      <td>9771.317660</td>\n",
       "      <td>6672.000000</td>\n",
       "      <td>-9.316057</td>\n",
       "    </tr>\n",
       "    <tr>\n",
       "      <td>25%</td>\n",
       "      <td>10303.252757</td>\n",
       "      <td>8635.950000</td>\n",
       "      <td>7.478262</td>\n",
       "    </tr>\n",
       "    <tr>\n",
       "      <td>50%</td>\n",
       "      <td>11040.196078</td>\n",
       "      <td>9337.500000</td>\n",
       "      <td>14.926816</td>\n",
       "    </tr>\n",
       "    <tr>\n",
       "      <td>75%</td>\n",
       "      <td>11403.248164</td>\n",
       "      <td>10208.950000</td>\n",
       "      <td>23.886142</td>\n",
       "    </tr>\n",
       "    <tr>\n",
       "      <td>max</td>\n",
       "      <td>11899.568316</td>\n",
       "      <td>12191.700000</td>\n",
       "      <td>68.115740</td>\n",
       "    </tr>\n",
       "  </tbody>\n",
       "</table>\n",
       "</div>"
      ],
      "text/plain": [
       "          Predicted   Real_values  Diff_percentage\n",
       "count   1438.000000   1438.000000      1438.000000\n",
       "mean   10878.728332   9417.169124        16.733657\n",
       "std      673.303848   1084.080786        12.719943\n",
       "min     9771.317660   6672.000000        -9.316057\n",
       "25%    10303.252757   8635.950000         7.478262\n",
       "50%    11040.196078   9337.500000        14.926816\n",
       "75%    11403.248164  10208.950000        23.886142\n",
       "max    11899.568316  12191.700000        68.115740"
      ]
     },
     "execution_count": 33,
     "metadata": {},
     "output_type": "execute_result"
    }
   ],
   "source": [
    "results.describe()"
   ]
  },
  {
   "cell_type": "code",
   "execution_count": null,
   "metadata": {},
   "outputs": [],
   "source": []
  }
 ],
 "metadata": {
  "kernelspec": {
   "display_name": "Python 3",
   "language": "python",
   "name": "python3"
  },
  "language_info": {
   "codemirror_mode": {
    "name": "ipython",
    "version": 3
   },
   "file_extension": ".py",
   "mimetype": "text/x-python",
   "name": "python",
   "nbconvert_exporter": "python",
   "pygments_lexer": "ipython3",
   "version": "3.7.4"
  }
 },
 "nbformat": 4,
 "nbformat_minor": 4
}
